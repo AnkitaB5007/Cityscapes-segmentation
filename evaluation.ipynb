{
  "nbformat": 4,
  "nbformat_minor": 0,
  "metadata": {
    "colab": {
      "name": "evaluation.ipynb",
      "provenance": [],
      "authorship_tag": "ABX9TyO2PoSOpozZi2P6iroooF5s",
      "include_colab_link": true
    },
    "kernelspec": {
      "name": "python3",
      "display_name": "Python 3"
    },
    "language_info": {
      "name": "python"
    }
  },
  "cells": [
    {
      "cell_type": "markdown",
      "metadata": {
        "id": "view-in-github",
        "colab_type": "text"
      },
      "source": [
        "<a href=\"https://colab.research.google.com/github/AnkitaB5007/Cityscapes-segmentation/blob/main/evaluation.ipynb\" target=\"_parent\"><img src=\"https://colab.research.google.com/assets/colab-badge.svg\" alt=\"Open In Colab\"/></a>"
      ]
    },
    {
      "cell_type": "code",
      "metadata": {
        "id": "qqsOKrT3-Hzr"
      },
      "source": [
        "import torch\n",
        "\n",
        "# SR : Segmentation Result\n",
        "# GT : Ground Truth\n",
        "\n",
        "def get_accuracy(SR,GT,threshold=0.5):\n",
        "    SR = SR > threshold\n",
        "    GT = GT == torch.max(GT)\n",
        "    corr = torch.sum(SR==GT)\n",
        "    tensor_size = SR.size(0)*SR.size(1)*SR.size(2)*SR.size(3)\n",
        "    acc = float(corr)/float(tensor_size)\n",
        "\n",
        "    return acc\n",
        "\n",
        "def get_sensitivity(SR,GT,threshold=0.5):\n",
        "    # Sensitivity == Recall\n",
        "    SR = SR > threshold\n",
        "    GT = GT == torch.max(GT)\n",
        "\n",
        "    # TP : True Positive\n",
        "    # FN : False Negative\n",
        "    TP = ((SR==1)+(GT==1))==2\n",
        "    FN = ((SR==0)+(GT==1))==2\n",
        "\n",
        "    SE = float(torch.sum(TP))/(float(torch.sum(TP+FN)) + 1e-6)     \n",
        "    \n",
        "    return SE\n",
        "\n",
        "def get_specificity(SR,GT,threshold=0.5):\n",
        "    SR = SR > threshold\n",
        "    GT = GT == torch.max(GT)\n",
        "\n",
        "    # TN : True Negative\n",
        "    # FP : False Positive\n",
        "    TN = ((SR==0)+(GT==0))==2\n",
        "    FP = ((SR==1)+(GT==0))==2\n",
        "\n",
        "    SP = float(torch.sum(TN))/(float(torch.sum(TN+FP)) + 1e-6)\n",
        "    \n",
        "    return SP\n",
        "\n",
        "def get_precision(SR,GT,threshold=0.5):\n",
        "    SR = SR > threshold\n",
        "    GT = GT == torch.max(GT)\n",
        "\n",
        "    # TP : True Positive\n",
        "    # FP : False Positive\n",
        "    TP = ((SR==1)+(GT==1))==2\n",
        "    FP = ((SR==1)+(GT==0))==2\n",
        "\n",
        "    PC = float(torch.sum(TP))/(float(torch.sum(TP+FP)) + 1e-6)\n",
        "\n",
        "    return PC\n",
        "\n",
        "def get_F1(SR,GT,threshold=0.5):\n",
        "    # Sensitivity == Recall\n",
        "    SE = get_sensitivity(SR,GT,threshold=threshold)\n",
        "    PC = get_precision(SR,GT,threshold=threshold)\n",
        "\n",
        "    F1 = 2*SE*PC/(SE+PC + 1e-6)\n",
        "\n",
        "    return F1\n",
        "\n",
        "def get_JS(SR,GT,threshold=0.5):\n",
        "    # JS : Jaccard similarity\n",
        "    SR = SR > threshold\n",
        "    GT = GT == torch.max(GT)\n",
        "    \n",
        "    Inter = torch.sum((SR+GT)==2)\n",
        "    Union = torch.sum((SR+GT)>=1)\n",
        "    \n",
        "    JS = float(Inter)/(float(Union) + 1e-6)\n",
        "    \n",
        "    return JS\n",
        "\n",
        "def get_DC(SR,GT,threshold=0.5):\n",
        "    # DC : Dice Coefficient\n",
        "    SR = SR > threshold\n",
        "    GT = GT == torch.max(GT)\n",
        "\n",
        "    Inter = torch.sum((SR+GT)==2)\n",
        "    DC = float(2*Inter)/(float(torch.sum(SR)+torch.sum(GT)) + 1e-6)\n",
        "\n",
        "    return DC\n"
      ],
      "execution_count": 1,
      "outputs": []
    }
  ]
}